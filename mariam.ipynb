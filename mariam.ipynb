{
 "cells": [
  {
   "cell_type": "code",
   "execution_count": 2,
   "id": "bb20ff27",
   "metadata": {},
   "outputs": [
    {
     "name": "stdout",
     "output_type": "stream",
     "text": [
      "8.412857142857145\n",
      "59.68214285714288\n",
      "7.714471428571429\n",
      "0\n",
      "8.96571428571428\n",
      "7.1014285714285705\n",
      "0\n"
     ]
    }
   ],
   "source": [
    "import spacy\n",
    "from spacy_readability import Readability\n",
    "\n",
    "nlp = spacy.load('en')\n",
    "nlp.add_pipe(Readability())\n",
    "\n",
    "doc = nlp(\"I am some really difficult text to read because I use obnoxiously large words.\")\n",
    "\n",
    "print(doc._.flesch_kincaid_grade_level)\n",
    "print(doc._.flesch_kincaid_reading_ease)\n",
    "print(doc._.dale_chall)\n",
    "print(doc._.smog)\n",
    "print(doc._.coleman_liau_index)\n",
    "print(doc._.automated_readability_index)\n",
    "print(doc._.forcast)"
   ]
  },
  {
   "cell_type": "code",
   "execution_count": null,
   "id": "2d76cc45",
   "metadata": {},
   "outputs": [],
   "source": []
  }
 ],
 "metadata": {
  "kernelspec": {
   "display_name": "Python [conda env:mariam]",
   "language": "python",
   "name": "conda-env-mariam-py"
  },
  "language_info": {
   "codemirror_mode": {
    "name": "ipython",
    "version": 3
   },
   "file_extension": ".py",
   "mimetype": "text/x-python",
   "name": "python",
   "nbconvert_exporter": "python",
   "pygments_lexer": "ipython3",
   "version": "3.8.12"
  }
 },
 "nbformat": 4,
 "nbformat_minor": 5
}
