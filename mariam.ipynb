{
 "cells": [
  {
   "cell_type": "markdown",
   "id": "03e1bf90",
   "metadata": {},
   "source": [
    "# Computing readability score of a text"
   ]
  },
  {
   "cell_type": "code",
   "execution_count": 5,
   "id": "bb20ff27",
   "metadata": {},
   "outputs": [],
   "source": [
    "import spacy\n",
    "from spacy_readability import Readability\n",
    "\n",
    "nlp = spacy.load('en')\n",
    "nlp.add_pipe(Readability())"
   ]
  },
  {
   "cell_type": "code",
   "execution_count": 6,
   "id": "0e2d9321",
   "metadata": {},
   "outputs": [],
   "source": [
    "doc = nlp(\"I am some really difficult text to read because I use obnoxiously large words.\")"
   ]
  },
  {
   "cell_type": "code",
   "execution_count": 7,
   "id": "ce9e9ce8",
   "metadata": {},
   "outputs": [
    {
     "name": "stdout",
     "output_type": "stream",
     "text": [
      "Flesh Kincaid score: 59.68214285714288\n"
     ]
    }
   ],
   "source": [
    "print(\"Flesh Kincaid score: \" + str(doc._.flesch_kincaid_reading_ease))"
   ]
  },
  {
   "cell_type": "markdown",
   "id": "bbb0af95",
   "metadata": {},
   "source": [
    "Compare with the table here: https://en.wikipedia.org/wiki/Flesch–Kincaid_readability_tests\n",
    "\n",
    "A score of ~59 corresponds to a School level (US) of 10th to 12th grade, which is \"Fairly difficult to read.\""
   ]
  },
  {
   "cell_type": "markdown",
   "id": "51cc73d2",
   "metadata": {},
   "source": [
    "Other metrics are also available:"
   ]
  },
  {
   "cell_type": "code",
   "execution_count": 8,
   "id": "2d76cc45",
   "metadata": {},
   "outputs": [
    {
     "name": "stdout",
     "output_type": "stream",
     "text": [
      "8.412857142857145\n",
      "59.68214285714288\n",
      "7.714471428571429\n",
      "0\n",
      "8.96571428571428\n",
      "7.1014285714285705\n",
      "0\n"
     ]
    }
   ],
   "source": [
    "print(doc._.flesch_kincaid_grade_level)\n",
    "print(doc._.flesch_kincaid_reading_ease)\n",
    "print(doc._.dale_chall)\n",
    "print(doc._.smog)\n",
    "print(doc._.coleman_liau_index)\n",
    "print(doc._.automated_readability_index)\n",
    "print(doc._.forcast)"
   ]
  }
 ],
 "metadata": {
  "kernelspec": {
   "display_name": "Python [conda env:mariam]",
   "language": "python",
   "name": "conda-env-mariam-py"
  },
  "language_info": {
   "codemirror_mode": {
    "name": "ipython",
    "version": 3
   },
   "file_extension": ".py",
   "mimetype": "text/x-python",
   "name": "python",
   "nbconvert_exporter": "python",
   "pygments_lexer": "ipython3",
   "version": "3.8.12"
  }
 },
 "nbformat": 4,
 "nbformat_minor": 5
}
